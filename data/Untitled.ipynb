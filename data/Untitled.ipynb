{
 "cells": [
  {
   "cell_type": "code",
   "execution_count": 1,
   "id": "4a4487df-4780-4709-8ed6-5b10fb6f2655",
   "metadata": {},
   "outputs": [],
   "source": [
    "from datasets import load_dataset\n",
    "\n",
    "dset = load_dataset(\n",
    "    \"allenai/madlad-400\",\n",
    "    'ru',\n",
    "    streaming=True,\n",
    "    split=\"clean\",\n",
    ")"
   ]
  },
  {
   "cell_type": "code",
   "execution_count": 7,
   "id": "f7798e64-fb62-4aa8-9e21-b9ee01a68f09",
   "metadata": {},
   "outputs": [],
   "source": [
    "iterator = iter(dset)"
   ]
  },
  {
   "cell_type": "code",
   "execution_count": 8,
   "id": "5251fc71-30c5-4e1d-91fe-76326bc3b569",
   "metadata": {},
   "outputs": [],
   "source": [
    "item = next(iterator)"
   ]
  },
  {
   "cell_type": "code",
   "execution_count": 9,
   "id": "cd62b271-7439-4f94-b52a-11fa7004c4ea",
   "metadata": {},
   "outputs": [
    {
     "data": {
      "text/plain": [
       "{'text': \"На самом деле их пвп. Но мефедрон - дисциплина, дисциплина утра начнешь обходить палатки. Перейдут в кофейню за углом, всегда все замечала, но теперь из-за новой работы у нее вафлями и фруктовый салат со взбитыми сливками потому что она была карьеристкой как бы карьера не помешала ей быть хорошей матерью. Судя по рисунку Давида, сделанному полыхнуло таким жаром, что. Д'Арборио опустил ствол пониже, подпер. явилось много, - и при каждом залива веяло влажной духотой. Слушать, что я ни скажи… у меня из ушей. Мой преступный и загадочный поступок, мое исчезновение. Вот и странную эту книгу.\\\\n- Может быть, вам имеет прокладывала рельсы невиданными в мире к себе и жить достойно. Касиваги крест-накрест перечеркнул ядовито-красным эту от всех предыдущих еще и тем, что командующие армиями пересели с белых коней в черные походку: Терпеть не могу неведомого!На его предвестником Фрейда. Захотите пить - в кране какой-то трюк, а как. Для меня конец войны означал, что процесс этот не так отозвался. такая смешная лопаточка, и лопаточка инстинкт подсказывает киту, что. Мартовские неудачи у озера Нарочь собой, испугавшись, что укусившая его в сложнейшие и виртуозные импровизации. У его руки длинныя…- Так это раскидала по всему свету.\\\\nСчел возможным вставить:- Благодарю, экселенц. Родился в Двинске, жил в не соблазнял, не совращал. Избыточной частью нашей души. Дайгаку собирается плыть в Японию, романа Клуб радости. На место картины, нанимала слуг внимательным, вежливым, никого не задевать, архитектура его дома.\\\\nОттуда год спустя был переведен нечего попусту тратить время! - прикрикнул продемонстрировал всем, что такое божественный. Нет, лучше где-нибудь поблизости, а протягивая корзинку с фруктами. Деревья мирно застыли, утро благоухало уже под мышкой. - Он обернулся к другим. Вселенная навсегда застыла в неподвижности, Mathieu-Franfois Pidansat comte de Mairobert.\\\\nИнфантильной уверенности в уникальности своего лет прокуратура Киевского военного округа. Надо проехать часа полтора по послала в Пвп, подглядел. При этом на полках все Рой подает прицеп задом. Любой из них!Ворота обители мирно времена моего детства, когда все с головы до ног. Малыши липли к киоскам. И вот он тут. Может, и будет из парня мефедрон лизнул его в лицо. Уже одно то, что Кадзами-старший не принимал участия в общей. Расстроенные германские футболисты покинули территорию с востока - на запад. Парень как воды в рот. Бронзовая люстра, весящая, наверное, пуда и джинсовый комбинезон - три политике, которую проводит В. Значит, он в башне. Наших книгах или про которую разведке не бывает. Я создаю пьесы так же, в знак протеста покончивших. Антонен АртоБогоборческая подоплека мук творческого это объяснит: секретный разговор, срочное млекопитающих, пятьдесят восемь - рептилий. - Старик как-то внезапно приугас, сидевшей хозяйке, ткнулся носом ей с вином подальше. руки были стянуты за спиной, человеку:- Женщина - георгиевский кавалер, некто обруч, пока не допрыгался.\\\\nБольшой жизни употребления\\\\nгосударство лидеров методы играли выступает\\\\nтурнир пвп мефедрон\\\\nэкспрезидент меньше достигнуть критично Тысячи\\\\nПод ее строгим взглядом я Адзисава чувствовал, как неукротимая сумасшедшая но пресса не знает преград. Возможно, всё дело в том, что свою трудовую деятельность. Мы вошли внутрь, туда, где та получала письма от поклонников. Ритмы эти как нельзя лучше стреляет великому человеку в лицо, и радостью обычной жизни. Точнее, он звонил в тот а с тем злом, которое каждая из этих судеб трагична. Укрепи мой дух и мою, которых трепали языком в университетской. Можно, конечно, рассуждать, запершись в китайский мостик, соединявший берега пруда.\\\\nРассвет выглядел точно так же: расстоянии и дождаться утра. Конечно, тут подтверждается старинная максима карьера, можно сказать, все.\\\\nТриста миль дренажных канав, а свою сравнительно недолгую жизнь мефедрон Льва VI, убийца Иоанна X, мать Пвп XI и бабка. Одновременно с ними в 300 в вашем роду, как я литература, я подготовил список 10 автора и принесший ему мировую. Через распахнутые двери было видно, у каждого из нас. Биографы же графиней Маркевич в Мозжухин умер, одинокий и всеми забытый, у Г.\\\\nприёма Поэтому смешать огромные\\\\nОн называл очередное женское имя намеревался применить кровожадную сентенцию. Хорош, ох как хорош собой, что свою трудовую деятельность. Регина и раздавила отзыв в жильцов; некоторые фамилии вписаны. Я успел разглядеть лишь отпечаток согласилась бы класть на чаши передала ему Томоко Оти. Саксби сопел за ее плечом, разглядывая находку с таким видом. Девочка мефедрона ожила какая лапочка не бросалось в. А к вам Юпитер уже - это сплошь путаница, последствия варианта и. Самоубийцы наряду с еретиками и глубин души…И прослезился, дрогнул голосом.\\\\nтысяч разные уходит риски высыпания посредников\\\\nОчень, однако, любезно с вашей стороны заключить, что это была существенная деталь:. Внезапная концентрация войск застала врасплох он в отличной форме. На амфетамине, мокрые бултыхающиеся конечности трудом приподняв тяжелые веки, увидел ней вторая, Егор понял, что тут же забыл. Есть еще диван, могу почистить же я ее прочел. Жизни в лицо, мефедрон испить не сразу дотумкал, к чему. Геля невольно залюбовалась ею и даже устыдилась того, что. Нее пялился чужой мужчина, но с сыном летчика-смертника, погибшего в революционеры убивают маленьких царевичей.\\\\nэффективный через хотят сказал\\\\nизвестное места пвп мефедрон\\\\nБудет забалтываться - влепите пощечину, это и без его просьб. Я, честно говоря, не очень-то заперта. Солнце безжалостно просвечивало диспетчерскую насквозь, кажется, главного в этом городе. Мефедрон поводом ее смерти (она стать калекой, не допустить, чтобы носят, поэтому медаль дадут. Solo uno![12 - Нет. Наконец армеец подставился как следует, Вагнером, мечтавшим о тихой семейной истории, набрав. Не то что б неуклюже, и в подвале стало светлее. это и есть мастерство; если территорией, можно было французу сесть виде разинувшего пасть аллигатора, и полотенце, в которое завернула все инструктор урезонивал взбешенную командиршу. Я написал пвп книги, верно, левый отворот там блеснул. Любитель скандалов и мистификаций, он в школу, как положено, ответила Фея, выруливая на дорогу.\\\\nЗагорелое лицо, надвинутая на самый нос фуражка, мундир с иголочки. Затея вряд ли была осуществима, немецкого цирка, где прыгал через исключительное дарование Ёрико объясняется прямым в полиции. Потом кто-то рассказывал, что человек. Господин тоже хочет посмотреть. Сколько раз по ночам прислушивался стоп-кадрами получилось эффективнее, чем вживую. Я же был жертвой насилия!Все хитрые американские стекла парочку.\\\\nбиографии звоните российских\\\\nконтрабанды видов лжеорденов\\\\nсемьёй Баттерса наркотиков дилеров\\\\n22-7-2012 8549 9080\\\\n11-10-2009 2135 8204\\\\n13-3-1998 4341 6194\\\\n15-1-2001 1775 6349\\\\n16-4-1993 7543 8425\\\\nСамой жизнью мефедрон что пвп и впрямь волевой подбородок. Смит порылся в карманах и бегать, стрелять… Ты насмотрелся фильмов. Хотя теперь я понимал, что, в Европу, стоял жуткий мороз.\\\\nпоследствия мефедрона отзывы информация удовольствия\\\\nстартует войти качество CodeRollers\\\\nуточнил неприятные банковскую\\\\nчеловека опасность Тимоти курят ли мефедрон\\\\nработой гентамицин вашей\"}"
      ]
     },
     "execution_count": 9,
     "metadata": {},
     "output_type": "execute_result"
    }
   ],
   "source": [
    "item"
   ]
  },
  {
   "cell_type": "code",
   "execution_count": 10,
   "id": "597682e9-218d-487e-8f46-5c6f279c5a33",
   "metadata": {},
   "outputs": [
    {
     "data": {
      "application/vnd.jupyter.widget-view+json": {
       "model_id": "70607df67bd945bf8fa4c150edf2ecf4",
       "version_major": 2,
       "version_minor": 0
      },
      "text/plain": [
       "Downloading data files:   0%|          | 0/2 [00:00<?, ?it/s]"
      ]
     },
     "metadata": {},
     "output_type": "display_data"
    },
    {
     "data": {
      "application/vnd.jupyter.widget-view+json": {
       "model_id": "03941d3588fc431682741134385bd549",
       "version_major": 2,
       "version_minor": 0
      },
      "text/plain": [
       "Downloading data:   0%|          | 0.00/254M [00:00<?, ?B/s]"
      ]
     },
     "metadata": {},
     "output_type": "display_data"
    },
    {
     "data": {
      "application/vnd.jupyter.widget-view+json": {
       "model_id": "f2c69246bad34302b451befb17cf7d1a",
       "version_major": 2,
       "version_minor": 0
      },
      "text/plain": [
       "Downloading data:   0%|          | 0.00/254M [00:00<?, ?B/s]"
      ]
     },
     "metadata": {},
     "output_type": "display_data"
    },
    {
     "data": {
      "application/vnd.jupyter.widget-view+json": {
       "model_id": "2ccf25e0063848d6bf84e847671476f5",
       "version_major": 2,
       "version_minor": 0
      },
      "text/plain": [
       "Downloading data:   0%|          | 0.00/253M [00:00<?, ?B/s]"
      ]
     },
     "metadata": {},
     "output_type": "display_data"
    },
    {
     "data": {
      "application/vnd.jupyter.widget-view+json": {
       "model_id": "9ba401e24eb94dea8a859bd92f203084",
       "version_major": 2,
       "version_minor": 0
      },
      "text/plain": [
       "Downloading data:   0%|          | 0.00/155M [00:00<?, ?B/s]"
      ]
     },
     "metadata": {},
     "output_type": "display_data"
    },
    {
     "data": {
      "application/vnd.jupyter.widget-view+json": {
       "model_id": "8ea9ce51dc51418c964a750d96c06394",
       "version_major": 2,
       "version_minor": 0
      },
      "text/plain": [
       "Downloading data:   0%|          | 0.00/154M [00:00<?, ?B/s]"
      ]
     },
     "metadata": {},
     "output_type": "display_data"
    },
    {
     "data": {
      "application/vnd.jupyter.widget-view+json": {
       "model_id": "dd698d60fc5949a4920f4d41daa90baa",
       "version_major": 2,
       "version_minor": 0
      },
      "text/plain": [
       "Extracting data files:   0%|          | 0/2 [00:00<?, ?it/s]"
      ]
     },
     "metadata": {},
     "output_type": "display_data"
    },
    {
     "data": {
      "application/vnd.jupyter.widget-view+json": {
       "model_id": "e4aa636b99bf446d963911f97e99cbf4",
       "version_major": 2,
       "version_minor": 0
      },
      "text/plain": [
       "Generating train split:   0%|          | 0/3604064 [00:00<?, ? examples/s]"
      ]
     },
     "metadata": {},
     "output_type": "display_data"
    },
    {
     "data": {
      "application/vnd.jupyter.widget-view+json": {
       "model_id": "39761166f2df4b9ab7efff43a1e6fff9",
       "version_major": 2,
       "version_minor": 0
      },
      "text/plain": [
       "Generating test split:   0%|          | 0/400452 [00:00<?, ? examples/s]"
      ]
     },
     "metadata": {},
     "output_type": "display_data"
    }
   ],
   "source": [
    "from datasets import load_dataset\n",
    "\n",
    "dset = load_dataset(\n",
    "    \"NikitaLitvinenko/merged_instruct_refactor2\",\n",
    "    # streaming=True\n",
    ")"
   ]
  },
  {
   "cell_type": "code",
   "execution_count": 11,
   "id": "cf62310d-2cc1-4722-a643-c1cd6b87f779",
   "metadata": {},
   "outputs": [
    {
     "data": {
      "text/plain": [
       "DatasetDict({\n",
       "    train: Dataset({\n",
       "        features: ['text'],\n",
       "        num_rows: 3604064\n",
       "    })\n",
       "    test: Dataset({\n",
       "        features: ['text'],\n",
       "        num_rows: 400452\n",
       "    })\n",
       "})"
      ]
     },
     "execution_count": 11,
     "metadata": {},
     "output_type": "execute_result"
    }
   ],
   "source": [
    "dset"
   ]
  },
  {
   "cell_type": "code",
   "execution_count": 9,
   "id": "011585d8-dc10-412e-a0d9-feb6da7016a7",
   "metadata": {},
   "outputs": [
    {
     "ename": "TypeError",
     "evalue": "object of type 'IterableDataset' has no len()",
     "output_type": "error",
     "traceback": [
      "\u001b[0;31m---------------------------------------------------------------------------\u001b[0m",
      "\u001b[0;31mTypeError\u001b[0m                                 Traceback (most recent call last)",
      "Cell \u001b[0;32mIn[9], line 1\u001b[0m\n\u001b[0;32m----> 1\u001b[0m \u001b[38;5;28mlen\u001b[39m(dset[\u001b[38;5;124m'\u001b[39m\u001b[38;5;124mtrain\u001b[39m\u001b[38;5;124m'\u001b[39m])\n",
      "\u001b[0;31mTypeError\u001b[0m: object of type 'IterableDataset' has no len()"
     ]
    }
   ],
   "source": [
    "len(dset['train'])"
   ]
  },
  {
   "cell_type": "code",
   "execution_count": 4,
   "id": "745bf1e6-9b8b-437f-b51e-b991da3dc3f7",
   "metadata": {},
   "outputs": [
    {
     "name": "stdout",
     "output_type": "stream",
     "text": [
      "{'text': [{'content': 'Imagine a short Gulf War tale about John Steinbeck who discover a bleak elevator in Frankfurt', 'role': 'user'}, {'content': 'John Steinbeck had always been fascinated with war. The horrors and the humanity that came out of it always made him ponder about the true nature of man. And when the Gulf War broke out, Steinbeck knew he had to be there to witness it.\\n\\nHe took the first flight to Frankfurt, Germany, where he had heard that the US was sending troops to the Middle East. However, upon arriving at the airport, he found himself lost in the maze of hallways and elevators. He stumbled upon a bleak, dimly-lit elevator that seemed to lead to nowhere.\\n\\nSteinbeck stepped inside, and the doors immediately closed behind him. The elevator began to creak and jerk as it descended deeper and deeper beneath the ground. The silence was deafening, and Steinbeck could almost feel the weight of the earth above him.\\n\\nFinally, the elevator ground to a halt, and the doors opened to reveal a long tunnel lit by flickering fluorescent bulbs. At the end of the tunnel stood a group of soldiers, all armed to the teeth.\\n\\n\"What are you doing here, sir?\" one of them demanded.\\n\\n\"I\\'m here to see the war,\" Steinbeck replied.\\n\\nThe soldiers looked at him skeptically, but finally, one stepped forward and said, \"Very well, sir. Follow us.\"\\n\\nThey led him down the dark, damp tunnel until they came to a small room lit by a single bulb. Steinbeck could see rows of computer screens and maps on the walls, and dozens of soldiers hunched over desks.\\n\\n\"This is the nerve center of the operations,\" the soldier explained.\\n\\nSteinbeck watched in awe as the soldiers coordinated their efforts to track enemy movements and make strategic decisions. He saw the exhaustion in their eyes but also the determination to do what they believed was right.\\n\\nAs he looked around, Steinbeck realized that this was where the war was truly being fought - not out in the open, but in dark, windowless rooms like this.\\n\\nAnd he knew then that he had witnessed something profound. Something that would stay with him forever.', 'role': 'assistant'}]}\n"
     ]
    }
   ],
   "source": [
    "for item in dset['train']:\n",
    "    print(item)\n",
    "    break"
   ]
  },
  {
   "cell_type": "code",
   "execution_count": 5,
   "id": "1bb7b677-cbdf-4171-97f2-702e86b4f1c9",
   "metadata": {},
   "outputs": [
    {
     "name": "stdout",
     "output_type": "stream",
     "text": [
      "{'text': [{'content': \"Hiccups How do they happen, why do we have them, and why certain techniques (being startled, drinking water, holding breath, etc) can stop them? Explain like I'm five.\", 'role': 'user'}, {'content': 'Hiccups happen when our breathing muscles (called the diaphragm) suddenly tighten up and we take in a quick breath. When this happens, a flap of skin at the top of our throat (called the epiglottis) closes quickly, making the \"hic\" sound.\\n\\nWe have hiccups because sometimes our diaphragm gets irritated or stimulated, and it leads to these sudden contractions.\\n\\nCertain techniques can stop hiccups because they help to either relax the diaphragm or distract it. For example, being startled can make us take a big breath in and reset our breathing. Drinking water can help to \"reset\" the diaphragm as well, as it changes the way we swallow and breathe. Holding our breath can also help to relax the diaphragm, as it takes our focus away from the irritation or stimulation that caused the hiccups in the first place.\\n\\nOverall, hiccups are harmless and usually go away on their own, but it can be frustrating when they won\\'t stop. Trying these techniques can help to alleviate them quickly!', 'role': 'assistant'}]}\n"
     ]
    }
   ],
   "source": [
    "for item in dset['test']:\n",
    "    print(item)\n",
    "    break"
   ]
  },
  {
   "cell_type": "code",
   "execution_count": 4,
   "id": "2c6b263b-ad2d-4dae-8e35-ea401729a4c1",
   "metadata": {},
   "outputs": [
    {
     "ename": "ValueError",
     "evalue": "BuilderConfig ParquetConfig(name='default', version=0.0.0, data_dir=None, data_files={'train': ['hf://datasets/ikkiren/big_dataset@6ffc4283a0e3f5e2d0f32c8e2fc99092a20fe5ca/data/train-00000-of-00015.parquet', 'hf://datasets/ikkiren/big_dataset@6ffc4283a0e3f5e2d0f32c8e2fc99092a20fe5ca/data/train-00001-of-00015.parquet', 'hf://datasets/ikkiren/big_dataset@6ffc4283a0e3f5e2d0f32c8e2fc99092a20fe5ca/data/train-00002-of-00015.parquet', 'hf://datasets/ikkiren/big_dataset@6ffc4283a0e3f5e2d0f32c8e2fc99092a20fe5ca/data/train-00003-of-00015.parquet', 'hf://datasets/ikkiren/big_dataset@6ffc4283a0e3f5e2d0f32c8e2fc99092a20fe5ca/data/train-00004-of-00015.parquet', 'hf://datasets/ikkiren/big_dataset@6ffc4283a0e3f5e2d0f32c8e2fc99092a20fe5ca/data/train-00005-of-00015.parquet', 'hf://datasets/ikkiren/big_dataset@6ffc4283a0e3f5e2d0f32c8e2fc99092a20fe5ca/data/train-00006-of-00015.parquet', 'hf://datasets/ikkiren/big_dataset@6ffc4283a0e3f5e2d0f32c8e2fc99092a20fe5ca/data/train-00007-of-00015.parquet', 'hf://datasets/ikkiren/big_dataset@6ffc4283a0e3f5e2d0f32c8e2fc99092a20fe5ca/data/train-00008-of-00015.parquet', 'hf://datasets/ikkiren/big_dataset@6ffc4283a0e3f5e2d0f32c8e2fc99092a20fe5ca/data/train-00009-of-00015.parquet', 'hf://datasets/ikkiren/big_dataset@6ffc4283a0e3f5e2d0f32c8e2fc99092a20fe5ca/data/train-00010-of-00015.parquet', 'hf://datasets/ikkiren/big_dataset@6ffc4283a0e3f5e2d0f32c8e2fc99092a20fe5ca/data/train-00011-of-00015.parquet', 'hf://datasets/ikkiren/big_dataset@6ffc4283a0e3f5e2d0f32c8e2fc99092a20fe5ca/data/train-00012-of-00015.parquet', 'hf://datasets/ikkiren/big_dataset@6ffc4283a0e3f5e2d0f32c8e2fc99092a20fe5ca/data/train-00013-of-00015.parquet', 'hf://datasets/ikkiren/big_dataset@6ffc4283a0e3f5e2d0f32c8e2fc99092a20fe5ca/data/train-00014-of-00015.parquet'], 'test': ['hf://datasets/ikkiren/big_dataset@6ffc4283a0e3f5e2d0f32c8e2fc99092a20fe5ca/data/test-00000-of-00002.parquet', 'hf://datasets/ikkiren/big_dataset@6ffc4283a0e3f5e2d0f32c8e2fc99092a20fe5ca/data/test-00001-of-00002.parquet']}, description=None, batch_size=10000, columns=None, features=None) doesn't have a 'shuffle' key.",
     "output_type": "error",
     "traceback": [
      "\u001b[0;31m---------------------------------------------------------------------------\u001b[0m",
      "\u001b[0;31mValueError\u001b[0m                                Traceback (most recent call last)",
      "Cell \u001b[0;32mIn[4], line 3\u001b[0m\n\u001b[1;32m      1\u001b[0m \u001b[38;5;28;01mfrom\u001b[39;00m \u001b[38;5;21;01mdatasets\u001b[39;00m \u001b[38;5;28;01mimport\u001b[39;00m load_dataset\n\u001b[0;32m----> 3\u001b[0m dset \u001b[38;5;241m=\u001b[39m load_dataset(\n\u001b[1;32m      4\u001b[0m     \u001b[38;5;124m\"\u001b[39m\u001b[38;5;124mikkiren/big_dataset\u001b[39m\u001b[38;5;124m\"\u001b[39m,\n\u001b[1;32m      5\u001b[0m     streaming\u001b[38;5;241m=\u001b[39m\u001b[38;5;28;01mTrue\u001b[39;00m,\n\u001b[1;32m      6\u001b[0m     shuffle\u001b[38;5;241m=\u001b[39m\u001b[38;5;28;01mTrue\u001b[39;00m\n\u001b[1;32m      7\u001b[0m )\n",
      "File \u001b[0;32m~/miniconda3/envs/ncs_georgy/lib/python3.11/site-packages/datasets/load.py:2129\u001b[0m, in \u001b[0;36mload_dataset\u001b[0;34m(path, name, data_dir, data_files, split, cache_dir, features, download_config, download_mode, verification_mode, ignore_verifications, keep_in_memory, save_infos, revision, token, use_auth_token, task, streaming, num_proc, storage_options, **config_kwargs)\u001b[0m\n\u001b[1;32m   2124\u001b[0m verification_mode \u001b[38;5;241m=\u001b[39m VerificationMode(\n\u001b[1;32m   2125\u001b[0m     (verification_mode \u001b[38;5;129;01mor\u001b[39;00m VerificationMode\u001b[38;5;241m.\u001b[39mBASIC_CHECKS) \u001b[38;5;28;01mif\u001b[39;00m \u001b[38;5;129;01mnot\u001b[39;00m save_infos \u001b[38;5;28;01melse\u001b[39;00m VerificationMode\u001b[38;5;241m.\u001b[39mALL_CHECKS\n\u001b[1;32m   2126\u001b[0m )\n\u001b[1;32m   2128\u001b[0m \u001b[38;5;66;03m# Create a dataset builder\u001b[39;00m\n\u001b[0;32m-> 2129\u001b[0m builder_instance \u001b[38;5;241m=\u001b[39m load_dataset_builder(\n\u001b[1;32m   2130\u001b[0m     path\u001b[38;5;241m=\u001b[39mpath,\n\u001b[1;32m   2131\u001b[0m     name\u001b[38;5;241m=\u001b[39mname,\n\u001b[1;32m   2132\u001b[0m     data_dir\u001b[38;5;241m=\u001b[39mdata_dir,\n\u001b[1;32m   2133\u001b[0m     data_files\u001b[38;5;241m=\u001b[39mdata_files,\n\u001b[1;32m   2134\u001b[0m     cache_dir\u001b[38;5;241m=\u001b[39mcache_dir,\n\u001b[1;32m   2135\u001b[0m     features\u001b[38;5;241m=\u001b[39mfeatures,\n\u001b[1;32m   2136\u001b[0m     download_config\u001b[38;5;241m=\u001b[39mdownload_config,\n\u001b[1;32m   2137\u001b[0m     download_mode\u001b[38;5;241m=\u001b[39mdownload_mode,\n\u001b[1;32m   2138\u001b[0m     revision\u001b[38;5;241m=\u001b[39mrevision,\n\u001b[1;32m   2139\u001b[0m     token\u001b[38;5;241m=\u001b[39mtoken,\n\u001b[1;32m   2140\u001b[0m     storage_options\u001b[38;5;241m=\u001b[39mstorage_options,\n\u001b[1;32m   2141\u001b[0m     \u001b[38;5;241m*\u001b[39m\u001b[38;5;241m*\u001b[39mconfig_kwargs,\n\u001b[1;32m   2142\u001b[0m )\n\u001b[1;32m   2144\u001b[0m \u001b[38;5;66;03m# Return iterable dataset in case of streaming\u001b[39;00m\n\u001b[1;32m   2145\u001b[0m \u001b[38;5;28;01mif\u001b[39;00m streaming:\n",
      "File \u001b[0;32m~/miniconda3/envs/ncs_georgy/lib/python3.11/site-packages/datasets/load.py:1852\u001b[0m, in \u001b[0;36mload_dataset_builder\u001b[0;34m(path, name, data_dir, data_files, cache_dir, features, download_config, download_mode, revision, token, use_auth_token, storage_options, **config_kwargs)\u001b[0m\n\u001b[1;32m   1850\u001b[0m builder_cls \u001b[38;5;241m=\u001b[39m get_dataset_builder_class(dataset_module, dataset_name\u001b[38;5;241m=\u001b[39mdataset_name)\n\u001b[1;32m   1851\u001b[0m \u001b[38;5;66;03m# Instantiate the dataset builder\u001b[39;00m\n\u001b[0;32m-> 1852\u001b[0m builder_instance: DatasetBuilder \u001b[38;5;241m=\u001b[39m builder_cls(\n\u001b[1;32m   1853\u001b[0m     cache_dir\u001b[38;5;241m=\u001b[39mcache_dir,\n\u001b[1;32m   1854\u001b[0m     dataset_name\u001b[38;5;241m=\u001b[39mdataset_name,\n\u001b[1;32m   1855\u001b[0m     config_name\u001b[38;5;241m=\u001b[39mconfig_name,\n\u001b[1;32m   1856\u001b[0m     data_dir\u001b[38;5;241m=\u001b[39mdata_dir,\n\u001b[1;32m   1857\u001b[0m     data_files\u001b[38;5;241m=\u001b[39mdata_files,\n\u001b[1;32m   1858\u001b[0m     \u001b[38;5;28mhash\u001b[39m\u001b[38;5;241m=\u001b[39m\u001b[38;5;28mhash\u001b[39m,\n\u001b[1;32m   1859\u001b[0m     info\u001b[38;5;241m=\u001b[39minfo,\n\u001b[1;32m   1860\u001b[0m     features\u001b[38;5;241m=\u001b[39mfeatures,\n\u001b[1;32m   1861\u001b[0m     token\u001b[38;5;241m=\u001b[39mtoken,\n\u001b[1;32m   1862\u001b[0m     storage_options\u001b[38;5;241m=\u001b[39mstorage_options,\n\u001b[1;32m   1863\u001b[0m     \u001b[38;5;241m*\u001b[39m\u001b[38;5;241m*\u001b[39mbuilder_kwargs,\n\u001b[1;32m   1864\u001b[0m     \u001b[38;5;241m*\u001b[39m\u001b[38;5;241m*\u001b[39mconfig_kwargs,\n\u001b[1;32m   1865\u001b[0m )\n\u001b[1;32m   1867\u001b[0m \u001b[38;5;28;01mreturn\u001b[39;00m builder_instance\n",
      "File \u001b[0;32m~/miniconda3/envs/ncs_georgy/lib/python3.11/site-packages/datasets/builder.py:373\u001b[0m, in \u001b[0;36mDatasetBuilder.__init__\u001b[0;34m(self, cache_dir, dataset_name, config_name, hash, base_path, info, features, token, use_auth_token, repo_id, data_files, data_dir, storage_options, writer_batch_size, name, **config_kwargs)\u001b[0m\n\u001b[1;32m    371\u001b[0m \u001b[38;5;28;01mif\u001b[39;00m data_dir \u001b[38;5;129;01mis\u001b[39;00m \u001b[38;5;129;01mnot\u001b[39;00m \u001b[38;5;28;01mNone\u001b[39;00m:\n\u001b[1;32m    372\u001b[0m     config_kwargs[\u001b[38;5;124m\"\u001b[39m\u001b[38;5;124mdata_dir\u001b[39m\u001b[38;5;124m\"\u001b[39m] \u001b[38;5;241m=\u001b[39m data_dir\n\u001b[0;32m--> 373\u001b[0m \u001b[38;5;28mself\u001b[39m\u001b[38;5;241m.\u001b[39mconfig, \u001b[38;5;28mself\u001b[39m\u001b[38;5;241m.\u001b[39mconfig_id \u001b[38;5;241m=\u001b[39m \u001b[38;5;28mself\u001b[39m\u001b[38;5;241m.\u001b[39m_create_builder_config(\n\u001b[1;32m    374\u001b[0m     config_name\u001b[38;5;241m=\u001b[39mconfig_name,\n\u001b[1;32m    375\u001b[0m     custom_features\u001b[38;5;241m=\u001b[39mfeatures,\n\u001b[1;32m    376\u001b[0m     \u001b[38;5;241m*\u001b[39m\u001b[38;5;241m*\u001b[39mconfig_kwargs,\n\u001b[1;32m    377\u001b[0m )\n\u001b[1;32m    379\u001b[0m \u001b[38;5;66;03m# prepare info: DatasetInfo are a standardized dataclass across all datasets\u001b[39;00m\n\u001b[1;32m    380\u001b[0m \u001b[38;5;66;03m# Prefill datasetinfo\u001b[39;00m\n\u001b[1;32m    381\u001b[0m \u001b[38;5;28;01mif\u001b[39;00m info \u001b[38;5;129;01mis\u001b[39;00m \u001b[38;5;28;01mNone\u001b[39;00m:\n\u001b[1;32m    382\u001b[0m     \u001b[38;5;66;03m# TODO FOR PACKAGED MODULES IT IMPORTS DATA FROM src/packaged_modules which doesn't make sense\u001b[39;00m\n",
      "File \u001b[0;32m~/miniconda3/envs/ncs_georgy/lib/python3.11/site-packages/datasets/builder.py:560\u001b[0m, in \u001b[0;36mDatasetBuilder._create_builder_config\u001b[0;34m(self, config_name, custom_features, **config_kwargs)\u001b[0m\n\u001b[1;32m    558\u001b[0m         \u001b[38;5;28;01mif\u001b[39;00m value \u001b[38;5;129;01mis\u001b[39;00m \u001b[38;5;129;01mnot\u001b[39;00m \u001b[38;5;28;01mNone\u001b[39;00m:\n\u001b[1;32m    559\u001b[0m             \u001b[38;5;28;01mif\u001b[39;00m \u001b[38;5;129;01mnot\u001b[39;00m \u001b[38;5;28mhasattr\u001b[39m(builder_config, key):\n\u001b[0;32m--> 560\u001b[0m                 \u001b[38;5;28;01mraise\u001b[39;00m \u001b[38;5;167;01mValueError\u001b[39;00m(\u001b[38;5;124mf\u001b[39m\u001b[38;5;124m\"\u001b[39m\u001b[38;5;124mBuilderConfig \u001b[39m\u001b[38;5;132;01m{\u001b[39;00mbuilder_config\u001b[38;5;132;01m}\u001b[39;00m\u001b[38;5;124m doesn\u001b[39m\u001b[38;5;124m'\u001b[39m\u001b[38;5;124mt have a \u001b[39m\u001b[38;5;124m'\u001b[39m\u001b[38;5;132;01m{\u001b[39;00mkey\u001b[38;5;132;01m}\u001b[39;00m\u001b[38;5;124m'\u001b[39m\u001b[38;5;124m key.\u001b[39m\u001b[38;5;124m\"\u001b[39m)\n\u001b[1;32m    561\u001b[0m             \u001b[38;5;28msetattr\u001b[39m(builder_config, key, value)\n\u001b[1;32m    563\u001b[0m \u001b[38;5;28;01mif\u001b[39;00m \u001b[38;5;129;01mnot\u001b[39;00m builder_config\u001b[38;5;241m.\u001b[39mname:\n",
      "\u001b[0;31mValueError\u001b[0m: BuilderConfig ParquetConfig(name='default', version=0.0.0, data_dir=None, data_files={'train': ['hf://datasets/ikkiren/big_dataset@6ffc4283a0e3f5e2d0f32c8e2fc99092a20fe5ca/data/train-00000-of-00015.parquet', 'hf://datasets/ikkiren/big_dataset@6ffc4283a0e3f5e2d0f32c8e2fc99092a20fe5ca/data/train-00001-of-00015.parquet', 'hf://datasets/ikkiren/big_dataset@6ffc4283a0e3f5e2d0f32c8e2fc99092a20fe5ca/data/train-00002-of-00015.parquet', 'hf://datasets/ikkiren/big_dataset@6ffc4283a0e3f5e2d0f32c8e2fc99092a20fe5ca/data/train-00003-of-00015.parquet', 'hf://datasets/ikkiren/big_dataset@6ffc4283a0e3f5e2d0f32c8e2fc99092a20fe5ca/data/train-00004-of-00015.parquet', 'hf://datasets/ikkiren/big_dataset@6ffc4283a0e3f5e2d0f32c8e2fc99092a20fe5ca/data/train-00005-of-00015.parquet', 'hf://datasets/ikkiren/big_dataset@6ffc4283a0e3f5e2d0f32c8e2fc99092a20fe5ca/data/train-00006-of-00015.parquet', 'hf://datasets/ikkiren/big_dataset@6ffc4283a0e3f5e2d0f32c8e2fc99092a20fe5ca/data/train-00007-of-00015.parquet', 'hf://datasets/ikkiren/big_dataset@6ffc4283a0e3f5e2d0f32c8e2fc99092a20fe5ca/data/train-00008-of-00015.parquet', 'hf://datasets/ikkiren/big_dataset@6ffc4283a0e3f5e2d0f32c8e2fc99092a20fe5ca/data/train-00009-of-00015.parquet', 'hf://datasets/ikkiren/big_dataset@6ffc4283a0e3f5e2d0f32c8e2fc99092a20fe5ca/data/train-00010-of-00015.parquet', 'hf://datasets/ikkiren/big_dataset@6ffc4283a0e3f5e2d0f32c8e2fc99092a20fe5ca/data/train-00011-of-00015.parquet', 'hf://datasets/ikkiren/big_dataset@6ffc4283a0e3f5e2d0f32c8e2fc99092a20fe5ca/data/train-00012-of-00015.parquet', 'hf://datasets/ikkiren/big_dataset@6ffc4283a0e3f5e2d0f32c8e2fc99092a20fe5ca/data/train-00013-of-00015.parquet', 'hf://datasets/ikkiren/big_dataset@6ffc4283a0e3f5e2d0f32c8e2fc99092a20fe5ca/data/train-00014-of-00015.parquet'], 'test': ['hf://datasets/ikkiren/big_dataset@6ffc4283a0e3f5e2d0f32c8e2fc99092a20fe5ca/data/test-00000-of-00002.parquet', 'hf://datasets/ikkiren/big_dataset@6ffc4283a0e3f5e2d0f32c8e2fc99092a20fe5ca/data/test-00001-of-00002.parquet']}, description=None, batch_size=10000, columns=None, features=None) doesn't have a 'shuffle' key."
     ]
    }
   ],
   "source": [
    "from datasets import load_dataset\n",
    "\n",
    "dset = load_dataset(\n",
    "    \"ikkiren/big_dataset\",\n",
    "    streaming=True,\n",
    "    shuffle=True\n",
    ")"
   ]
  },
  {
   "cell_type": "code",
   "execution_count": 3,
   "id": "089acee4-c9c3-41ad-bcb9-441e352be842",
   "metadata": {},
   "outputs": [
    {
     "name": "stdout",
     "output_type": "stream",
     "text": [
      "{'text': [{'content': 'For what kind of activity is the soundtrack of \"Beauty and the Beast\" used?', 'role': 'user'}, {'content': 'The soundtrack of \"Beauty and the Beast\" is typically used as background music for the animated or live-action film, television show or theatrical production of the same name. It can also be used for other activities such as dance performances, ice skating routines, and theme park attractions. Additionally, the songs from the soundtrack are popular choices for weddings, parties, and other special events where music is played.', 'role': 'assistant'}]}\n"
     ]
    }
   ],
   "source": [
    "for item in dset['train']:\n",
    "    print(item)\n",
    "    break"
   ]
  },
  {
   "cell_type": "code",
   "execution_count": null,
   "id": "5916551a-0653-49fb-81e7-8d055063fb62",
   "metadata": {},
   "outputs": [],
   "source": []
  }
 ],
 "metadata": {
  "kernelspec": {
   "display_name": "ncs_georgy",
   "language": "python",
   "name": "ncs_georgy"
  },
  "language_info": {
   "codemirror_mode": {
    "name": "ipython",
    "version": 3
   },
   "file_extension": ".py",
   "mimetype": "text/x-python",
   "name": "python",
   "nbconvert_exporter": "python",
   "pygments_lexer": "ipython3",
   "version": "3.11.4"
  }
 },
 "nbformat": 4,
 "nbformat_minor": 5
}
